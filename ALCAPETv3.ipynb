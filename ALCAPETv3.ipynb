{
 "cells": [
  {
   "cell_type": "code",
   "execution_count": 1,
   "id": "31f8e087",
   "metadata": {},
   "outputs": [],
   "source": [
    "import pandas as pd\n",
    "import numpy as np\n",
    "\n",
    "\n",
    "%matplotlib inline"
   ]
  },
  {
   "cell_type": "code",
   "execution_count": 2,
   "id": "d2306973",
   "metadata": {
    "scrolled": true
   },
   "outputs": [
    {
     "name": "stderr",
     "output_type": "stream",
     "text": [
      "C:\\Users\\p_bon\\AppData\\Local\\Temp\\ipykernel_7356\\2522688220.py:3: DtypeWarning: Columns (0,30) have mixed types. Specify dtype option on import or set low_memory=False.\n",
      "  df_Trans_2022 = pd.read_csv('C:/Users/p_bon/Proyectos/SIA_PARTNERS/Prival/Data/Trans-2022.csv')\n",
      "C:\\Users\\p_bon\\AppData\\Local\\Temp\\ipykernel_7356\\2522688220.py:5: DtypeWarning: Columns (0,38) have mixed types. Specify dtype option on import or set low_memory=False.\n",
      "  df_Trans_2023 = pd.read_csv('C:/Users/p_bon/Proyectos/SIA_PARTNERS/Prival/Data/Trans-2023.csv')\n"
     ]
    }
   ],
   "source": [
    "df_CuentasCRM = pd.read_csv('C:/Users/p_bon/Proyectos/SIA_PARTNERS/Prival/Data/CuentasCRM-03302023.csv')\n",
    "\n",
    "df_Trans_2022 = pd.read_csv('C:/Users/p_bon/Proyectos/SIA_PARTNERS/Prival/Data/Trans-2022.csv')\n",
    "\n",
    "df_Trans_2023 = pd.read_csv('C:/Users/p_bon/Proyectos/SIA_PARTNERS/Prival/Data/Trans-2023.csv')\n",
    "\n",
    "df_transactionCode = pd.read_excel('C:/Users/p_bon/Proyectos/SIA_PARTNERS/Prival/Data/transactionCode.xlsx')\n",
    "\n",
    "df_CustomerRisk = pd.read_csv('C:/Users/p_bon/Proyectos/SIA_PARTNERS/Prival/Data/CustomerRisk.csv')\n",
    "\n",
    "df_CustomerPF = pd.read_csv('C:/Users/p_bon/Proyectos/SIA_PARTNERS/Prival/Data/CustomerPF-05032023.csv')\n"
   ]
  },
  {
   "cell_type": "code",
   "execution_count": 3,
   "id": "1b0838f1",
   "metadata": {},
   "outputs": [],
   "source": [
    "df_Trans = pd.concat([df_Trans_2022, df_Trans_2023], ignore_index=True)"
   ]
  },
  {
   "cell_type": "code",
   "execution_count": 4,
   "id": "2dce7a13",
   "metadata": {},
   "outputs": [],
   "source": [
    "df_CustomerPF['CustomerCode'] = df_CustomerPF['CustomerCode'].astype('str')"
   ]
  },
  {
   "cell_type": "code",
   "execution_count": 5,
   "id": "fe9d6952",
   "metadata": {},
   "outputs": [],
   "source": [
    "df_CustomerPF['CustomerCode'] = df_CustomerPF['CustomerCode'].str.replace(\" \",  \"\")"
   ]
  },
  {
   "cell_type": "code",
   "execution_count": 6,
   "id": "ab0e983c",
   "metadata": {},
   "outputs": [],
   "source": [
    "df_CustomerPF = df_CustomerPF.drop_duplicates(subset = 'CustomerCode', keep='first')"
   ]
  },
  {
   "cell_type": "code",
   "execution_count": 7,
   "id": "d33e58fe",
   "metadata": {},
   "outputs": [],
   "source": [
    "df_CustomerPF = df_CustomerPF.replace(np.nan, 1000, regex=True)"
   ]
  },
  {
   "cell_type": "code",
   "execution_count": 8,
   "id": "b8346f1d",
   "metadata": {},
   "outputs": [],
   "source": [
    "df_CustomerRisk = df_CustomerRisk.rename(columns=df_CustomerRisk.iloc[0])\n",
    "\n",
    "df_CustomerRisk = df_CustomerRisk.drop(df_CustomerRisk.index[0])"
   ]
  },
  {
   "cell_type": "code",
   "execution_count": 9,
   "id": "66c5e7f8",
   "metadata": {},
   "outputs": [],
   "source": [
    "df_CustomerRisk.rename(columns={\"Client Code\":\"CustomerCode\"}, inplace=True)"
   ]
  },
  {
   "cell_type": "code",
   "execution_count": 10,
   "id": "b91b7cfc",
   "metadata": {},
   "outputs": [],
   "source": [
    "df_CustomerRisk = df_CustomerRisk[['CustomerCode', 'Riesgo', 'PEP']]"
   ]
  },
  {
   "cell_type": "code",
   "execution_count": 11,
   "id": "91d8469d",
   "metadata": {},
   "outputs": [],
   "source": [
    "df_Trans = df_Trans[df_Trans['AccountCurrency'] == 'USD']"
   ]
  },
  {
   "cell_type": "code",
   "execution_count": 12,
   "id": "7f596dcf",
   "metadata": {},
   "outputs": [],
   "source": [
    "df_CuentasCRM_Official = df_CuentasCRM[['AccountNumber', 'CustomerCode','PersonalOrBusiness']]"
   ]
  },
  {
   "cell_type": "code",
   "execution_count": 13,
   "id": "c7587559",
   "metadata": {
    "scrolled": false
   },
   "outputs": [
    {
     "name": "stderr",
     "output_type": "stream",
     "text": [
      "C:\\Users\\p_bon\\AppData\\Local\\Temp\\ipykernel_7356\\3679408515.py:1: SettingWithCopyWarning: \n",
      "A value is trying to be set on a copy of a slice from a DataFrame.\n",
      "Try using .loc[row_indexer,col_indexer] = value instead\n",
      "\n",
      "See the caveats in the documentation: https://pandas.pydata.org/pandas-docs/stable/user_guide/indexing.html#returning-a-view-versus-a-copy\n",
      "  df_CuentasCRM_Official['AccountNumber'] = df_CuentasCRM_Official['AccountNumber'].astype('str')\n"
     ]
    }
   ],
   "source": [
    "df_CuentasCRM_Official['AccountNumber'] = df_CuentasCRM_Official['AccountNumber'].astype('str')"
   ]
  },
  {
   "cell_type": "code",
   "execution_count": 14,
   "id": "cd4a5754",
   "metadata": {
    "scrolled": true
   },
   "outputs": [
    {
     "name": "stderr",
     "output_type": "stream",
     "text": [
      "C:\\Users\\p_bon\\AppData\\Local\\Temp\\ipykernel_7356\\2218115866.py:1: SettingWithCopyWarning: \n",
      "A value is trying to be set on a copy of a slice from a DataFrame.\n",
      "Try using .loc[row_indexer,col_indexer] = value instead\n",
      "\n",
      "See the caveats in the documentation: https://pandas.pydata.org/pandas-docs/stable/user_guide/indexing.html#returning-a-view-versus-a-copy\n",
      "  df_CuentasCRM_Official['CustomerCode'] = df_CuentasCRM_Official['CustomerCode'].astype('str')\n"
     ]
    }
   ],
   "source": [
    "df_CuentasCRM_Official['CustomerCode'] = df_CuentasCRM_Official['CustomerCode'].astype('str')"
   ]
  },
  {
   "cell_type": "code",
   "execution_count": 15,
   "id": "4561d5f8",
   "metadata": {
    "scrolled": true
   },
   "outputs": [],
   "source": [
    "df_Trans_Official = df_Trans[['AccountNumber', 'TransactionDate', 'Category', 'Amount']]"
   ]
  },
  {
   "cell_type": "code",
   "execution_count": 16,
   "id": "4b1f4a74",
   "metadata": {},
   "outputs": [
    {
     "name": "stderr",
     "output_type": "stream",
     "text": [
      "C:\\Users\\p_bon\\AppData\\Local\\Temp\\ipykernel_7356\\2666250959.py:1: SettingWithCopyWarning: \n",
      "A value is trying to be set on a copy of a slice from a DataFrame.\n",
      "Try using .loc[row_indexer,col_indexer] = value instead\n",
      "\n",
      "See the caveats in the documentation: https://pandas.pydata.org/pandas-docs/stable/user_guide/indexing.html#returning-a-view-versus-a-copy\n",
      "  df_Trans_Official['AccountNumber'] = df_Trans_Official['AccountNumber'].astype('str')\n"
     ]
    }
   ],
   "source": [
    "df_Trans_Official['AccountNumber'] = df_Trans_Official['AccountNumber'].astype('str')"
   ]
  },
  {
   "cell_type": "code",
   "execution_count": 17,
   "id": "5cf0567c",
   "metadata": {
    "scrolled": true
   },
   "outputs": [
    {
     "name": "stderr",
     "output_type": "stream",
     "text": [
      "C:\\Users\\p_bon\\AppData\\Local\\Temp\\ipykernel_7356\\2868595543.py:1: SettingWithCopyWarning: \n",
      "A value is trying to be set on a copy of a slice from a DataFrame.\n",
      "Try using .loc[row_indexer,col_indexer] = value instead\n",
      "\n",
      "See the caveats in the documentation: https://pandas.pydata.org/pandas-docs/stable/user_guide/indexing.html#returning-a-view-versus-a-copy\n",
      "  df_Trans_Official['Date'] = pd.to_datetime(df_Trans_Official['TransactionDate']).dt.date\n"
     ]
    }
   ],
   "source": [
    "df_Trans_Official['Date'] = pd.to_datetime(df_Trans_Official['TransactionDate']).dt.date"
   ]
  },
  {
   "cell_type": "code",
   "execution_count": 18,
   "id": "7376b6d7",
   "metadata": {
    "scrolled": true
   },
   "outputs": [
    {
     "name": "stderr",
     "output_type": "stream",
     "text": [
      "C:\\Users\\p_bon\\AppData\\Local\\Temp\\ipykernel_7356\\3310060153.py:1: SettingWithCopyWarning: \n",
      "A value is trying to be set on a copy of a slice from a DataFrame.\n",
      "Try using .loc[row_indexer,col_indexer] = value instead\n",
      "\n",
      "See the caveats in the documentation: https://pandas.pydata.org/pandas-docs/stable/user_guide/indexing.html#returning-a-view-versus-a-copy\n",
      "  df_Trans_Official['Month'] = pd.to_datetime(df_Trans_Official['Date']).dt.month_name()\n"
     ]
    }
   ],
   "source": [
    "df_Trans_Official['Month'] = pd.to_datetime(df_Trans_Official['Date']).dt.month_name()"
   ]
  },
  {
   "cell_type": "code",
   "execution_count": 19,
   "id": "452353fd",
   "metadata": {
    "scrolled": false
   },
   "outputs": [
    {
     "name": "stderr",
     "output_type": "stream",
     "text": [
      "C:\\Users\\p_bon\\AppData\\Local\\Temp\\ipykernel_7356\\1364853294.py:1: SettingWithCopyWarning: \n",
      "A value is trying to be set on a copy of a slice from a DataFrame.\n",
      "Try using .loc[row_indexer,col_indexer] = value instead\n",
      "\n",
      "See the caveats in the documentation: https://pandas.pydata.org/pandas-docs/stable/user_guide/indexing.html#returning-a-view-versus-a-copy\n",
      "  df_Trans_Official['Year'] = pd.to_datetime(df_Trans_Official['Date']).dt.year\n"
     ]
    }
   ],
   "source": [
    "df_Trans_Official['Year'] = pd.to_datetime(df_Trans_Official['Date']).dt.year"
   ]
  },
  {
   "cell_type": "code",
   "execution_count": 20,
   "id": "a0e5990d",
   "metadata": {
    "scrolled": true
   },
   "outputs": [
    {
     "name": "stderr",
     "output_type": "stream",
     "text": [
      "C:\\Users\\p_bon\\AppData\\Local\\Temp\\ipykernel_7356\\3763192203.py:1: SettingWithCopyWarning: \n",
      "A value is trying to be set on a copy of a slice from a DataFrame.\n",
      "Try using .loc[row_indexer,col_indexer] = value instead\n",
      "\n",
      "See the caveats in the documentation: https://pandas.pydata.org/pandas-docs/stable/user_guide/indexing.html#returning-a-view-versus-a-copy\n",
      "  df_Trans_Official['Year'] = df_Trans_Official['Year'].astype('str')\n"
     ]
    }
   ],
   "source": [
    "df_Trans_Official['Year'] = df_Trans_Official['Year'].astype('str')"
   ]
  },
  {
   "cell_type": "code",
   "execution_count": 21,
   "id": "2291abdf",
   "metadata": {
    "scrolled": false
   },
   "outputs": [
    {
     "name": "stderr",
     "output_type": "stream",
     "text": [
      "C:\\Users\\p_bon\\AppData\\Local\\Temp\\ipykernel_7356\\1738408726.py:1: SettingWithCopyWarning: \n",
      "A value is trying to be set on a copy of a slice from a DataFrame.\n",
      "Try using .loc[row_indexer,col_indexer] = value instead\n",
      "\n",
      "See the caveats in the documentation: https://pandas.pydata.org/pandas-docs/stable/user_guide/indexing.html#returning-a-view-versus-a-copy\n",
      "  df_Trans_Official['Month_Year'] = df_Trans_Official['Month'] + '_' + df_Trans_Official['Year']\n"
     ]
    }
   ],
   "source": [
    "df_Trans_Official['Month_Year'] = df_Trans_Official['Month'] + '_' + df_Trans_Official['Year']"
   ]
  },
  {
   "cell_type": "markdown",
   "id": "baa8085a",
   "metadata": {},
   "source": [
    "# Merge of Tables"
   ]
  },
  {
   "cell_type": "code",
   "execution_count": 22,
   "id": "d6e55ee2",
   "metadata": {},
   "outputs": [],
   "source": [
    "df_CuentasCRM_Official = df_CuentasCRM_Official.merge(df_CustomerRisk, on='CustomerCode', how='left')"
   ]
  },
  {
   "cell_type": "code",
   "execution_count": 23,
   "id": "dc8f3c27",
   "metadata": {},
   "outputs": [],
   "source": [
    "df_CuentasCRM_Official['Riesgo'] = df_CuentasCRM_Official['Riesgo'].fillna('HR')"
   ]
  },
  {
   "cell_type": "code",
   "execution_count": 24,
   "id": "fccbd580",
   "metadata": {},
   "outputs": [],
   "source": [
    "df_Trans_CustomerCode = df_Trans_Official.merge(df_CuentasCRM_Official, on = 'AccountNumber', how = 'outer')"
   ]
  },
  {
   "cell_type": "code",
   "execution_count": 25,
   "id": "2f1c3c49",
   "metadata": {},
   "outputs": [],
   "source": [
    "df_CuentasCRM_Official_Risk = df_CuentasCRM_Official[['CustomerCode', 'Riesgo', 'PEP']]"
   ]
  },
  {
   "cell_type": "markdown",
   "id": "45551e08",
   "metadata": {},
   "source": [
    "# Pivot Tables"
   ]
  },
  {
   "cell_type": "code",
   "execution_count": 26,
   "id": "41452a8c",
   "metadata": {},
   "outputs": [],
   "source": [
    "CategoriesIn = ['Internal Transfers In', 'ACH In', 'Checks Deposited', 'Wires In', 'Cash In', 'ATM In']\n",
    "\n",
    "isCategoryIn = df_Trans_CustomerCode['Category'].isin(CategoriesIn)\n",
    "\n",
    "CategoriesOut = ['ACH Out', 'Internal Transfers Out', 'Wires Out', 'Cash Out', 'Checks Issued', 'ATM Out', 'Bank Checks Purchased'] \n",
    "\n",
    "isCategoryOut = df_Trans_CustomerCode['Category'].isin(CategoriesOut)"
   ]
  },
  {
   "cell_type": "code",
   "execution_count": 27,
   "id": "f2792888",
   "metadata": {},
   "outputs": [],
   "source": [
    "df_Trans_CustomerCode_CatIn = df_Trans_CustomerCode[isCategoryIn]\n",
    "\n",
    "df_Trans_CustomerCode_CatOut = df_Trans_CustomerCode[isCategoryOut]"
   ]
  },
  {
   "cell_type": "code",
   "execution_count": 28,
   "id": "0ae15f5a",
   "metadata": {},
   "outputs": [
    {
     "data": {
      "text/plain": [
       "1904"
      ]
     },
     "execution_count": 28,
     "metadata": {},
     "output_type": "execute_result"
    }
   ],
   "source": [
    "df_Trans_CustomerCode_CatIn['CustomerCode'].nunique()"
   ]
  },
  {
   "cell_type": "code",
   "execution_count": 29,
   "id": "c2c230c8",
   "metadata": {},
   "outputs": [],
   "source": [
    "df_nulos = df_Trans_CustomerCode_CatIn[df_Trans_CustomerCode_CatIn['CustomerCode'].isnull()]"
   ]
  },
  {
   "cell_type": "code",
   "execution_count": 30,
   "id": "0950fc9b",
   "metadata": {},
   "outputs": [],
   "source": [
    "df_AccountNumbers_Sin_CustomerCode = pd.DataFrame(list(df_nulos['AccountNumber'].unique()), columns=['AccountNumber'])"
   ]
  },
  {
   "cell_type": "code",
   "execution_count": 31,
   "id": "5a99b772",
   "metadata": {},
   "outputs": [
    {
     "data": {
      "text/plain": [
       "165"
      ]
     },
     "execution_count": 31,
     "metadata": {},
     "output_type": "execute_result"
    }
   ],
   "source": [
    "df_nulos['AccountNumber'].nunique()"
   ]
  },
  {
   "cell_type": "markdown",
   "id": "e57decdb",
   "metadata": {},
   "source": [
    "## Pivot In Categories"
   ]
  },
  {
   "cell_type": "code",
   "execution_count": 32,
   "id": "40c15aaf",
   "metadata": {},
   "outputs": [],
   "source": [
    "def DescarteValores(df):\n",
    "    \n",
    "    columns = df.columns\n",
    "    \n",
    "    for lab, row in df.iterrows():\n",
    "        \n",
    "        for col in columns:\n",
    "            \n",
    "            if row[col] < 1000:\n",
    "                \n",
    "                row[col] = 0\n",
    "            \n",
    "            else:\n",
    "                \n",
    "                continue\n",
    "    \n",
    "    return df"
   ]
  },
  {
   "cell_type": "code",
   "execution_count": 33,
   "id": "ed56dba3",
   "metadata": {},
   "outputs": [],
   "source": [
    "def Promedios(pivot):\n",
    "    \n",
    "    pivot = DescarteValores(pivot)\n",
    "    \n",
    "    columns = list(pivot.columns)\n",
    "    \n",
    "    columns.remove('MaxValue')\n",
    "    \n",
    "    pivot['Suma_con_Max'] = 0\n",
    "    \n",
    "    for col in columns:\n",
    "        \n",
    "        pivot['Suma_con_Max'] += pivot[col]\n",
    "    \n",
    "    pivot['Suma_sin_Max'] = pivot['Suma_con_Max'] - pivot['MaxValue']\n",
    "    \n",
    "    pivot['Count'] = 0\n",
    "    \n",
    "    #promedio sin max\n",
    "    \n",
    "    for lab, row in pivot.iterrows():\n",
    "        \n",
    "        for col in columns:\n",
    "            \n",
    "            if row[col] > 0:\n",
    "                \n",
    "                row['Count'] += 1\n",
    "                \n",
    "            else:\n",
    "                \n",
    "                continue\n",
    "                \n",
    "        pivot.loc[lab, 'Count'] = row['Count']\n",
    "    \n",
    "    pivot['Promedio_sin_Max'] = pivot['Suma_sin_Max']/(pivot['Count'] - 1)\n",
    "    \n",
    "    pivot['Promedio_con_Max'] = pivot['Suma_con_Max']/pivot['Count']\n",
    "    \n",
    "    return pivot "
   ]
  },
  {
   "cell_type": "code",
   "execution_count": 34,
   "id": "b98caaa7",
   "metadata": {},
   "outputs": [],
   "source": [
    "def MontoPerfilTransaccional(pivot, columnName):\n",
    "    \n",
    "    for lab, row in pivot.iterrows():\n",
    "        \n",
    "        if row['MaxValue'] > 3*row['Promedio_sin_Max']:\n",
    "            \n",
    "            pivot.loc[lab, columnName] = row['Promedio_sin_Max']\n",
    "            \n",
    "        else:\n",
    "            \n",
    "            pivot.loc[lab, columnName] = row['Promedio_con_Max']\n",
    "            \n",
    "    return pivot"
   ]
  },
  {
   "cell_type": "markdown",
   "id": "45fd9075",
   "metadata": {},
   "source": [
    "## Calculo de Monto Perfil Transaccional"
   ]
  },
  {
   "cell_type": "code",
   "execution_count": 35,
   "id": "515510db",
   "metadata": {},
   "outputs": [],
   "source": [
    "def Piso(df, column):\n",
    "    \n",
    "    for lab, row in df.iterrows():\n",
    "        \n",
    "        if row[column] < 10000:\n",
    "            \n",
    "            df.loc[lab, column] = 10000\n",
    "        \n",
    "        else:\n",
    "            \n",
    "            continue\n",
    "    \n",
    "    return df"
   ]
  },
  {
   "cell_type": "code",
   "execution_count": 36,
   "id": "7111de6e",
   "metadata": {},
   "outputs": [],
   "source": [
    "def CalculoDesviacion(df, columnName):\n",
    "    \n",
    "    for lab, row in df.iterrows():\n",
    "        \n",
    "        df.loc[lab, 'Desviacion'] = (row[columnName] - row['PerfilFinanciero'])/row['PerfilFinanciero']\n",
    "        \n",
    "    return df\n",
    "    "
   ]
  },
  {
   "cell_type": "code",
   "execution_count": 37,
   "id": "252bafb2",
   "metadata": {},
   "outputs": [],
   "source": [
    "def FactorMultiplicador(df):\n",
    "    \n",
    "    for lab, row in df.iterrows():\n",
    "        \n",
    "        if row['Desviacion'] > 0:\n",
    "            \n",
    "            if row['PEP'] == 'PEP':\n",
    "                    \n",
    "                df.loc[lab, 'Factor_Multiplicador'] = 1\n",
    "                \n",
    "            else:\n",
    "                \n",
    "                if row['Riesgo'] == 'HR':\n",
    "                    \n",
    "                    if row['Desviacion'] <= 1:\n",
    "                        \n",
    "                        df.loc[lab, 'Factor_Multiplicador'] = 0.900\n",
    "                        \n",
    "                    elif (row['Desviacion'] > 1) & (row['Desviacion'] <= 5):\n",
    "                        \n",
    "                        df.loc[lab, 'Factor_Multiplicador'] = 0.925\n",
    "                        \n",
    "                    elif (row['Desviacion'] > 5) & (row['Desviacion'] <= 10):\n",
    "                        \n",
    "                        df.loc[lab, 'Factor_Multiplicador'] = 0.950\n",
    "                        \n",
    "                    elif row['Desviacion'] > 10:\n",
    "                        \n",
    "                        df.loc[lab, 'Factor_Multiplicador'] = 0.975\n",
    "                \n",
    "                elif row['Riesgo'] == 'MR':\n",
    "                    \n",
    "                    if row['Desviacion'] <= 1:\n",
    "                        \n",
    "                        df.loc[lab, 'Factor_Multiplicador'] = 0.700\n",
    "                        \n",
    "                    elif (row['Desviacion'] > 1) & (row['Desviacion'] <= 5):\n",
    "                        \n",
    "                        df.loc[lab, 'Factor_Multiplicador'] = 0.750\n",
    "                        \n",
    "                    elif (row['Desviacion'] > 5) & (row['Desviacion'] <= 10):\n",
    "                        \n",
    "                        df.loc[lab, 'Factor_Multiplicador'] = 0.800\n",
    "                        \n",
    "                    elif row['Desviacion'] > 10:\n",
    "                        \n",
    "                        df.loc[lab, 'Factor_Multiplicador'] = 0.850\n",
    "                        \n",
    "                elif row['Riesgo'] == 'LR':\n",
    "                    \n",
    "                    if row['Desviacion'] <= 1:\n",
    "                        \n",
    "                        df.loc[lab, 'Factor_Multiplicador'] = 0.500\n",
    "                        \n",
    "                    elif (row['Desviacion'] > 1) & (row['Desviacion'] <= 5):\n",
    "                        \n",
    "                        df.loc[lab, 'Factor_Multiplicador'] = 0.600\n",
    "                        \n",
    "                    elif (row['Desviacion'] > 5) & (row['Desviacion'] <= 10):\n",
    "                        \n",
    "                        df.loc[lab, 'Factor_Multiplicador'] = 0.700\n",
    "                        \n",
    "                    elif row['Desviacion'] > 10:\n",
    "                        \n",
    "                        df.loc[lab, 'Factor_Multiplicador'] = 0.750\n",
    "        \n",
    "        elif row['Desviacion'] < 0:\n",
    "            \n",
    "            if row['PEP'] == 'PEP':\n",
    "                    \n",
    "                df.loc[lab, 'Factor_Multiplicador'] = 0\n",
    "                \n",
    "            else:\n",
    "                \n",
    "                if row['Riesgo'] == 'HR':\n",
    "                    \n",
    "                    if row['Desviacion'] <= 1:\n",
    "                        \n",
    "                        df.loc[lab, 'Factor_Multiplicador'] = 0.100\n",
    "                        \n",
    "                    elif (row['Desviacion'] > 1) & (row['Desviacion'] <= 5):\n",
    "                        \n",
    "                        df.loc[lab, 'Factor_Multiplicador'] = 0.075\n",
    "                        \n",
    "                    elif (row['Desviacion'] > 5) & (row['Desviacion'] <= 10):\n",
    "                        \n",
    "                        df.loc[lab, 'Factor_Multiplicador'] = 0.050\n",
    "                        \n",
    "                    elif row['Desviacion'] > 10:\n",
    "                        \n",
    "                        df.loc[lab, 'Factor_Multiplicador'] = 0.025\n",
    "                \n",
    "                elif row['Riesgo'] == 'MR':\n",
    "                    \n",
    "                    if row['Desviacion'] <= 1:\n",
    "                        \n",
    "                        df.loc[lab, 'Factor_Multiplicador'] = 0.300\n",
    "                        \n",
    "                    elif (row['Desviacion'] > 1) & (row['Desviacion'] <= 5):\n",
    "                        \n",
    "                        df.loc[lab, 'Factor_Multiplicador'] = 0.250\n",
    "                        \n",
    "                    elif (row['Desviacion'] > 5) & (row['Desviacion'] <= 10):\n",
    "                        \n",
    "                        df.loc[lab, 'Factor_Multiplicador'] = 0.200\n",
    "                        \n",
    "                    elif row['Desviacion'] > 10:\n",
    "                        \n",
    "                        df.loc[lab, 'Factor_Multiplicador'] = 0.150\n",
    "                        \n",
    "                elif row['Riesgo'] == 'LR':\n",
    "                    \n",
    "                    if row['Desviacion'] <= 1:\n",
    "                        \n",
    "                        df.loc[lab, 'Factor_Multiplicador'] = 0.500\n",
    "                        \n",
    "                    elif (row['Desviacion'] > 1) & (row['Desviacion'] <= 5):\n",
    "                        \n",
    "                        df.loc[lab, 'Factor_Multiplicador'] = 0.400\n",
    "                        \n",
    "                    elif (row['Desviacion'] > 5) & (row['Desviacion'] <= 10):\n",
    "                        \n",
    "                        df.loc[lab, 'Factor_Multiplicador'] = 0.300\n",
    "                        \n",
    "                    elif row['Desviacion'] > 10:\n",
    "                        \n",
    "                        df.loc[lab, 'Factor_Multiplicador'] = 0.250\n",
    "    \n",
    "    return df\n",
    "                        \n",
    "                \n",
    "             \n",
    "    "
   ]
  },
  {
   "cell_type": "code",
   "execution_count": 38,
   "id": "7254a1b0",
   "metadata": {},
   "outputs": [],
   "source": [
    "def PerfilContraste(df, columnName, columnCont):\n",
    "    \n",
    "    for lab, row in df.iterrows():\n",
    "        \n",
    "        df.loc[lab, columnName] = row[columnCont] - (row['PerfilFinanciero']*row['Desviacion']*row['Factor_Multiplicador'])\n",
    "        \n",
    "    return df\n",
    "    "
   ]
  },
  {
   "cell_type": "code",
   "execution_count": 39,
   "id": "759c4d8d",
   "metadata": {},
   "outputs": [],
   "source": [
    "df_pivotIn = pd.pivot_table(df_Trans_CustomerCode_CatIn, values = 'Amount', index = 'CustomerCode', columns= 'Month_Year', aggfunc=np.sum, fill_value=0)"
   ]
  },
  {
   "cell_type": "code",
   "execution_count": 40,
   "id": "6c9b3c8e",
   "metadata": {},
   "outputs": [],
   "source": [
    "df_pivotIn['MaxValue'] = df_pivotIn.max(axis='columns')"
   ]
  },
  {
   "cell_type": "code",
   "execution_count": 106,
   "id": "0bf3a93a",
   "metadata": {},
   "outputs": [
    {
     "data": {
      "text/html": [
       "<div>\n",
       "<style scoped>\n",
       "    .dataframe tbody tr th:only-of-type {\n",
       "        vertical-align: middle;\n",
       "    }\n",
       "\n",
       "    .dataframe tbody tr th {\n",
       "        vertical-align: top;\n",
       "    }\n",
       "\n",
       "    .dataframe thead th {\n",
       "        text-align: right;\n",
       "    }\n",
       "</style>\n",
       "<table border=\"1\" class=\"dataframe\">\n",
       "  <thead>\n",
       "    <tr style=\"text-align: right;\">\n",
       "      <th>Month_Year</th>\n",
       "      <th>April_2022</th>\n",
       "      <th>August_2022</th>\n",
       "      <th>December_2022</th>\n",
       "      <th>February_2022</th>\n",
       "      <th>February_2023</th>\n",
       "      <th>January_2022</th>\n",
       "      <th>January_2023</th>\n",
       "      <th>July_2022</th>\n",
       "      <th>June_2022</th>\n",
       "      <th>March_2022</th>\n",
       "      <th>...</th>\n",
       "      <th>November_2022</th>\n",
       "      <th>October_2022</th>\n",
       "      <th>September_2022</th>\n",
       "      <th>MaxValue</th>\n",
       "      <th>Suma_con_Max</th>\n",
       "      <th>Suma_sin_Max</th>\n",
       "      <th>Count</th>\n",
       "      <th>Promedio_sin_Max</th>\n",
       "      <th>Promedio_con_Max</th>\n",
       "      <th>CreditAmount</th>\n",
       "    </tr>\n",
       "    <tr>\n",
       "      <th>CustomerCode</th>\n",
       "      <th></th>\n",
       "      <th></th>\n",
       "      <th></th>\n",
       "      <th></th>\n",
       "      <th></th>\n",
       "      <th></th>\n",
       "      <th></th>\n",
       "      <th></th>\n",
       "      <th></th>\n",
       "      <th></th>\n",
       "      <th></th>\n",
       "      <th></th>\n",
       "      <th></th>\n",
       "      <th></th>\n",
       "      <th></th>\n",
       "      <th></th>\n",
       "      <th></th>\n",
       "      <th></th>\n",
       "      <th></th>\n",
       "      <th></th>\n",
       "      <th></th>\n",
       "    </tr>\n",
       "  </thead>\n",
       "  <tbody>\n",
       "    <tr>\n",
       "      <th>100001</th>\n",
       "      <td>107118.70</td>\n",
       "      <td>196023.81</td>\n",
       "      <td>145742.43</td>\n",
       "      <td>167590.34</td>\n",
       "      <td>148833.26</td>\n",
       "      <td>158382.61</td>\n",
       "      <td>100994.50</td>\n",
       "      <td>161100.81</td>\n",
       "      <td>206638.38</td>\n",
       "      <td>148280.00</td>\n",
       "      <td>...</td>\n",
       "      <td>36282.81</td>\n",
       "      <td>153638.25</td>\n",
       "      <td>274004.60</td>\n",
       "      <td>504222.52</td>\n",
       "      <td>2617836.58</td>\n",
       "      <td>2113614.06</td>\n",
       "      <td>15</td>\n",
       "      <td>150972.432857</td>\n",
       "      <td>174522.438667</td>\n",
       "      <td>150972.432857</td>\n",
       "    </tr>\n",
       "    <tr>\n",
       "      <th>100002</th>\n",
       "      <td>0.00</td>\n",
       "      <td>10728.91</td>\n",
       "      <td>18600.00</td>\n",
       "      <td>10300.00</td>\n",
       "      <td>9500.00</td>\n",
       "      <td>34748.46</td>\n",
       "      <td>9500.00</td>\n",
       "      <td>10250.00</td>\n",
       "      <td>17443.50</td>\n",
       "      <td>20500.00</td>\n",
       "      <td>...</td>\n",
       "      <td>22400.00</td>\n",
       "      <td>11550.00</td>\n",
       "      <td>15200.00</td>\n",
       "      <td>34748.46</td>\n",
       "      <td>209877.62</td>\n",
       "      <td>175129.16</td>\n",
       "      <td>14</td>\n",
       "      <td>13471.473846</td>\n",
       "      <td>14991.258571</td>\n",
       "      <td>14991.258571</td>\n",
       "    </tr>\n",
       "    <tr>\n",
       "      <th>100003</th>\n",
       "      <td>311352.43</td>\n",
       "      <td>218574.14</td>\n",
       "      <td>758900.13</td>\n",
       "      <td>56484.33</td>\n",
       "      <td>59306.05</td>\n",
       "      <td>275065.39</td>\n",
       "      <td>339237.65</td>\n",
       "      <td>337894.47</td>\n",
       "      <td>256834.32</td>\n",
       "      <td>96684.31</td>\n",
       "      <td>...</td>\n",
       "      <td>50556.02</td>\n",
       "      <td>292237.92</td>\n",
       "      <td>44543.04</td>\n",
       "      <td>758900.13</td>\n",
       "      <td>3519841.62</td>\n",
       "      <td>2760941.49</td>\n",
       "      <td>15</td>\n",
       "      <td>197210.106429</td>\n",
       "      <td>234656.108000</td>\n",
       "      <td>197210.106429</td>\n",
       "    </tr>\n",
       "    <tr>\n",
       "      <th>100006</th>\n",
       "      <td>8000.00</td>\n",
       "      <td>0.00</td>\n",
       "      <td>3765.03</td>\n",
       "      <td>8581.33</td>\n",
       "      <td>0.00</td>\n",
       "      <td>70250.00</td>\n",
       "      <td>1000.00</td>\n",
       "      <td>0.00</td>\n",
       "      <td>21450.00</td>\n",
       "      <td>0.00</td>\n",
       "      <td>...</td>\n",
       "      <td>5688.90</td>\n",
       "      <td>0.00</td>\n",
       "      <td>1500.00</td>\n",
       "      <td>70250.00</td>\n",
       "      <td>123055.46</td>\n",
       "      <td>52805.46</td>\n",
       "      <td>10</td>\n",
       "      <td>5867.273333</td>\n",
       "      <td>12305.546000</td>\n",
       "      <td>5867.273333</td>\n",
       "    </tr>\n",
       "    <tr>\n",
       "      <th>100011</th>\n",
       "      <td>0.00</td>\n",
       "      <td>1900.00</td>\n",
       "      <td>0.00</td>\n",
       "      <td>0.00</td>\n",
       "      <td>0.00</td>\n",
       "      <td>0.00</td>\n",
       "      <td>0.00</td>\n",
       "      <td>1150.00</td>\n",
       "      <td>23250.00</td>\n",
       "      <td>0.00</td>\n",
       "      <td>...</td>\n",
       "      <td>1700.00</td>\n",
       "      <td>0.00</td>\n",
       "      <td>1400.00</td>\n",
       "      <td>23250.00</td>\n",
       "      <td>29400.00</td>\n",
       "      <td>6150.00</td>\n",
       "      <td>5</td>\n",
       "      <td>1537.500000</td>\n",
       "      <td>5880.000000</td>\n",
       "      <td>1537.500000</td>\n",
       "    </tr>\n",
       "  </tbody>\n",
       "</table>\n",
       "<p>5 rows × 22 columns</p>\n",
       "</div>"
      ],
      "text/plain": [
       "Month_Year    April_2022  August_2022  December_2022  February_2022  \\\n",
       "CustomerCode                                                          \n",
       "100001         107118.70    196023.81      145742.43      167590.34   \n",
       "100002              0.00     10728.91       18600.00       10300.00   \n",
       "100003         311352.43    218574.14      758900.13       56484.33   \n",
       "100006           8000.00         0.00        3765.03        8581.33   \n",
       "100011              0.00      1900.00           0.00           0.00   \n",
       "\n",
       "Month_Year    February_2023  January_2022  January_2023  July_2022  June_2022  \\\n",
       "CustomerCode                                                                    \n",
       "100001            148833.26     158382.61     100994.50  161100.81  206638.38   \n",
       "100002              9500.00      34748.46       9500.00   10250.00   17443.50   \n",
       "100003             59306.05     275065.39     339237.65  337894.47  256834.32   \n",
       "100006                 0.00      70250.00       1000.00       0.00   21450.00   \n",
       "100011                 0.00          0.00          0.00    1150.00   23250.00   \n",
       "\n",
       "Month_Year    March_2022  ...  November_2022  October_2022  September_2022  \\\n",
       "CustomerCode              ...                                                \n",
       "100001         148280.00  ...       36282.81     153638.25       274004.60   \n",
       "100002          20500.00  ...       22400.00      11550.00        15200.00   \n",
       "100003          96684.31  ...       50556.02     292237.92        44543.04   \n",
       "100006              0.00  ...        5688.90          0.00         1500.00   \n",
       "100011              0.00  ...        1700.00          0.00         1400.00   \n",
       "\n",
       "Month_Year     MaxValue  Suma_con_Max  Suma_sin_Max  Count  Promedio_sin_Max  \\\n",
       "CustomerCode                                                                   \n",
       "100001        504222.52    2617836.58    2113614.06     15     150972.432857   \n",
       "100002         34748.46     209877.62     175129.16     14      13471.473846   \n",
       "100003        758900.13    3519841.62    2760941.49     15     197210.106429   \n",
       "100006         70250.00     123055.46      52805.46     10       5867.273333   \n",
       "100011         23250.00      29400.00       6150.00      5       1537.500000   \n",
       "\n",
       "Month_Year    Promedio_con_Max   CreditAmount  \n",
       "CustomerCode                                   \n",
       "100001           174522.438667  150972.432857  \n",
       "100002            14991.258571   14991.258571  \n",
       "100003           234656.108000  197210.106429  \n",
       "100006            12305.546000    5867.273333  \n",
       "100011             5880.000000    1537.500000  \n",
       "\n",
       "[5 rows x 22 columns]"
      ]
     },
     "execution_count": 106,
     "metadata": {},
     "output_type": "execute_result"
    }
   ],
   "source": [
    "df_pivotIn.head()"
   ]
  },
  {
   "cell_type": "code",
   "execution_count": 41,
   "id": "ccf56f90",
   "metadata": {},
   "outputs": [],
   "source": [
    "df_pivotIn_Promedios = Promedios(df_pivotIn)"
   ]
  },
  {
   "cell_type": "code",
   "execution_count": 42,
   "id": "42f0d8e0",
   "metadata": {},
   "outputs": [],
   "source": [
    "df_CreditAmount = MontoPerfilTransaccional(df_pivotIn_Promedios, 'CreditAmount')"
   ]
  },
  {
   "cell_type": "code",
   "execution_count": 43,
   "id": "749c463e",
   "metadata": {},
   "outputs": [],
   "source": [
    "df_CreditAmount_Financiero = df_CreditAmount.merge(df_CustomerPF, on='CustomerCode', how='outer')"
   ]
  },
  {
   "cell_type": "code",
   "execution_count": 44,
   "id": "9acd8541",
   "metadata": {},
   "outputs": [],
   "source": [
    "df_CreditAmount_Financiero = df_CreditAmount_Financiero.merge(df_CuentasCRM_Official_Risk, on = 'CustomerCode', how='outer')"
   ]
  },
  {
   "cell_type": "code",
   "execution_count": 45,
   "id": "ca999796",
   "metadata": {},
   "outputs": [],
   "source": [
    "df_CreditAmount_Financiero = df_CreditAmount_Financiero.drop_duplicates(subset=['CustomerCode'], keep='first')"
   ]
  },
  {
   "cell_type": "code",
   "execution_count": 46,
   "id": "300ad15b",
   "metadata": {},
   "outputs": [],
   "source": [
    "df_CreditAmount_Financiero['PerfilFinanciero'] = df_CreditAmount_Financiero['PerfilFinanciero'].fillna(10000)"
   ]
  },
  {
   "cell_type": "code",
   "execution_count": 47,
   "id": "78c67750",
   "metadata": {},
   "outputs": [],
   "source": [
    "df_CreditAmount_Financiero['CreditAmount'] = df_CreditAmount_Financiero['CreditAmount'].fillna(0)"
   ]
  },
  {
   "cell_type": "code",
   "execution_count": 48,
   "id": "efa71f5f",
   "metadata": {},
   "outputs": [],
   "source": [
    "df_CreditAmount_Financiero['Riesgo'] = df_CreditAmount_Financiero['Riesgo'].fillna('HR')"
   ]
  },
  {
   "cell_type": "code",
   "execution_count": 49,
   "id": "4e221181",
   "metadata": {},
   "outputs": [],
   "source": [
    "df_CreditAmount_Financiero_Desviacion = CalculoDesviacion(df_CreditAmount_Financiero, 'CreditAmount')"
   ]
  },
  {
   "cell_type": "code",
   "execution_count": 50,
   "id": "e1f88397",
   "metadata": {
    "scrolled": true
   },
   "outputs": [],
   "source": [
    "df_CreditAmount_Desviacion_FactorRiesgo = FactorMultiplicador(df_CreditAmount_Financiero_Desviacion)"
   ]
  },
  {
   "cell_type": "code",
   "execution_count": 51,
   "id": "0dd50cbb",
   "metadata": {},
   "outputs": [],
   "source": [
    "df_CreditAmount_Desviacion_FactorRiesgo['Factor_Multiplicador'] = df_CreditAmount_Desviacion_FactorRiesgo['Factor_Multiplicador'].fillna(0)"
   ]
  },
  {
   "cell_type": "code",
   "execution_count": 52,
   "id": "43773ff7",
   "metadata": {},
   "outputs": [],
   "source": [
    "df_CreditAmount_PerfilContraste = PerfilContraste(df_CreditAmount_Desviacion_FactorRiesgo, 'CreditAmount_Contraste', 'CreditAmount')"
   ]
  },
  {
   "cell_type": "code",
   "execution_count": 107,
   "id": "7b6b80c7",
   "metadata": {},
   "outputs": [
    {
     "data": {
      "text/html": [
       "<div>\n",
       "<style scoped>\n",
       "    .dataframe tbody tr th:only-of-type {\n",
       "        vertical-align: middle;\n",
       "    }\n",
       "\n",
       "    .dataframe tbody tr th {\n",
       "        vertical-align: top;\n",
       "    }\n",
       "\n",
       "    .dataframe thead th {\n",
       "        text-align: right;\n",
       "    }\n",
       "</style>\n",
       "<table border=\"1\" class=\"dataframe\">\n",
       "  <thead>\n",
       "    <tr style=\"text-align: right;\">\n",
       "      <th></th>\n",
       "      <th>CustomerCode</th>\n",
       "      <th>April_2022</th>\n",
       "      <th>August_2022</th>\n",
       "      <th>December_2022</th>\n",
       "      <th>February_2022</th>\n",
       "      <th>February_2023</th>\n",
       "      <th>January_2022</th>\n",
       "      <th>January_2023</th>\n",
       "      <th>July_2022</th>\n",
       "      <th>June_2022</th>\n",
       "      <th>...</th>\n",
       "      <th>Count</th>\n",
       "      <th>Promedio_sin_Max</th>\n",
       "      <th>Promedio_con_Max</th>\n",
       "      <th>CreditAmount</th>\n",
       "      <th>PerfilFinanciero</th>\n",
       "      <th>Riesgo</th>\n",
       "      <th>PEP</th>\n",
       "      <th>Desviacion</th>\n",
       "      <th>Factor_Multiplicador</th>\n",
       "      <th>CreditAmount_Contraste</th>\n",
       "    </tr>\n",
       "  </thead>\n",
       "  <tbody>\n",
       "    <tr>\n",
       "      <th>0</th>\n",
       "      <td>100001</td>\n",
       "      <td>107118.70</td>\n",
       "      <td>196023.81</td>\n",
       "      <td>145742.43</td>\n",
       "      <td>167590.34</td>\n",
       "      <td>148833.26</td>\n",
       "      <td>158382.61</td>\n",
       "      <td>100994.50</td>\n",
       "      <td>161100.81</td>\n",
       "      <td>206638.38</td>\n",
       "      <td>...</td>\n",
       "      <td>15.0</td>\n",
       "      <td>150972.432857</td>\n",
       "      <td>174522.438667</td>\n",
       "      <td>150972.432857</td>\n",
       "      <td>10000.00000</td>\n",
       "      <td>HR</td>\n",
       "      <td>PEP</td>\n",
       "      <td>14.097243</td>\n",
       "      <td>1.000</td>\n",
       "      <td>10000.000000</td>\n",
       "    </tr>\n",
       "    <tr>\n",
       "      <th>9</th>\n",
       "      <td>100002</td>\n",
       "      <td>0.00</td>\n",
       "      <td>10728.91</td>\n",
       "      <td>18600.00</td>\n",
       "      <td>10300.00</td>\n",
       "      <td>9500.00</td>\n",
       "      <td>34748.46</td>\n",
       "      <td>9500.00</td>\n",
       "      <td>10250.00</td>\n",
       "      <td>17443.50</td>\n",
       "      <td>...</td>\n",
       "      <td>14.0</td>\n",
       "      <td>13471.473846</td>\n",
       "      <td>14991.258571</td>\n",
       "      <td>14991.258571</td>\n",
       "      <td>20000.00000</td>\n",
       "      <td>MR</td>\n",
       "      <td>NaN</td>\n",
       "      <td>-0.250437</td>\n",
       "      <td>0.300</td>\n",
       "      <td>16493.881000</td>\n",
       "    </tr>\n",
       "    <tr>\n",
       "      <th>11</th>\n",
       "      <td>100003</td>\n",
       "      <td>311352.43</td>\n",
       "      <td>218574.14</td>\n",
       "      <td>758900.13</td>\n",
       "      <td>56484.33</td>\n",
       "      <td>59306.05</td>\n",
       "      <td>275065.39</td>\n",
       "      <td>339237.65</td>\n",
       "      <td>337894.47</td>\n",
       "      <td>256834.32</td>\n",
       "      <td>...</td>\n",
       "      <td>15.0</td>\n",
       "      <td>197210.106429</td>\n",
       "      <td>234656.108000</td>\n",
       "      <td>197210.106429</td>\n",
       "      <td>10000.00000</td>\n",
       "      <td>HR</td>\n",
       "      <td>NaN</td>\n",
       "      <td>18.721011</td>\n",
       "      <td>0.975</td>\n",
       "      <td>14680.252661</td>\n",
       "    </tr>\n",
       "    <tr>\n",
       "      <th>17</th>\n",
       "      <td>100006</td>\n",
       "      <td>8000.00</td>\n",
       "      <td>0.00</td>\n",
       "      <td>3765.03</td>\n",
       "      <td>8581.33</td>\n",
       "      <td>0.00</td>\n",
       "      <td>70250.00</td>\n",
       "      <td>1000.00</td>\n",
       "      <td>0.00</td>\n",
       "      <td>21450.00</td>\n",
       "      <td>...</td>\n",
       "      <td>10.0</td>\n",
       "      <td>5867.273333</td>\n",
       "      <td>12305.546000</td>\n",
       "      <td>5867.273333</td>\n",
       "      <td>10000.00000</td>\n",
       "      <td>LR</td>\n",
       "      <td>NaN</td>\n",
       "      <td>-0.413273</td>\n",
       "      <td>0.500</td>\n",
       "      <td>10000.000000</td>\n",
       "    </tr>\n",
       "    <tr>\n",
       "      <th>22</th>\n",
       "      <td>100011</td>\n",
       "      <td>0.00</td>\n",
       "      <td>1900.00</td>\n",
       "      <td>0.00</td>\n",
       "      <td>0.00</td>\n",
       "      <td>0.00</td>\n",
       "      <td>0.00</td>\n",
       "      <td>0.00</td>\n",
       "      <td>1150.00</td>\n",
       "      <td>23250.00</td>\n",
       "      <td>...</td>\n",
       "      <td>5.0</td>\n",
       "      <td>1537.500000</td>\n",
       "      <td>5880.000000</td>\n",
       "      <td>1537.500000</td>\n",
       "      <td>31800.49579</td>\n",
       "      <td>HR</td>\n",
       "      <td>PEP</td>\n",
       "      <td>-0.951652</td>\n",
       "      <td>0.000</td>\n",
       "      <td>10000.000000</td>\n",
       "    </tr>\n",
       "  </tbody>\n",
       "</table>\n",
       "<p>5 rows × 29 columns</p>\n",
       "</div>"
      ],
      "text/plain": [
       "   CustomerCode  April_2022  August_2022  December_2022  February_2022  \\\n",
       "0        100001   107118.70    196023.81      145742.43      167590.34   \n",
       "9        100002        0.00     10728.91       18600.00       10300.00   \n",
       "11       100003   311352.43    218574.14      758900.13       56484.33   \n",
       "17       100006     8000.00         0.00        3765.03        8581.33   \n",
       "22       100011        0.00      1900.00           0.00           0.00   \n",
       "\n",
       "    February_2023  January_2022  January_2023  July_2022  June_2022  ...  \\\n",
       "0       148833.26     158382.61     100994.50  161100.81  206638.38  ...   \n",
       "9         9500.00      34748.46       9500.00   10250.00   17443.50  ...   \n",
       "11       59306.05     275065.39     339237.65  337894.47  256834.32  ...   \n",
       "17           0.00      70250.00       1000.00       0.00   21450.00  ...   \n",
       "22           0.00          0.00          0.00    1150.00   23250.00  ...   \n",
       "\n",
       "    Count  Promedio_sin_Max  Promedio_con_Max   CreditAmount  \\\n",
       "0    15.0     150972.432857     174522.438667  150972.432857   \n",
       "9    14.0      13471.473846      14991.258571   14991.258571   \n",
       "11   15.0     197210.106429     234656.108000  197210.106429   \n",
       "17   10.0       5867.273333      12305.546000    5867.273333   \n",
       "22    5.0       1537.500000       5880.000000    1537.500000   \n",
       "\n",
       "    PerfilFinanciero  Riesgo  PEP  Desviacion  Factor_Multiplicador  \\\n",
       "0        10000.00000      HR  PEP   14.097243                 1.000   \n",
       "9        20000.00000      MR  NaN   -0.250437                 0.300   \n",
       "11       10000.00000      HR  NaN   18.721011                 0.975   \n",
       "17       10000.00000      LR  NaN   -0.413273                 0.500   \n",
       "22       31800.49579      HR  PEP   -0.951652                 0.000   \n",
       "\n",
       "    CreditAmount_Contraste  \n",
       "0             10000.000000  \n",
       "9             16493.881000  \n",
       "11            14680.252661  \n",
       "17            10000.000000  \n",
       "22            10000.000000  \n",
       "\n",
       "[5 rows x 29 columns]"
      ]
     },
     "execution_count": 107,
     "metadata": {},
     "output_type": "execute_result"
    }
   ],
   "source": [
    "df_CreditAmount_PerfilContraste.head()"
   ]
  },
  {
   "cell_type": "code",
   "execution_count": 53,
   "id": "44884b85",
   "metadata": {},
   "outputs": [],
   "source": [
    "df_CreditAmount_PerfilContraste_Piso = np.round(Piso(df_CreditAmount_PerfilContraste, 'CreditAmount_Contraste'),2)"
   ]
  },
  {
   "cell_type": "code",
   "execution_count": 54,
   "id": "da30b623",
   "metadata": {},
   "outputs": [],
   "source": [
    "df_CreditAmount_Perfil_Final = df_CreditAmount_PerfilContraste_Piso[['CustomerCode', 'CreditAmount_Contraste']]"
   ]
  },
  {
   "cell_type": "code",
   "execution_count": 108,
   "id": "c0121183",
   "metadata": {},
   "outputs": [
    {
     "data": {
      "text/html": [
       "<div>\n",
       "<style scoped>\n",
       "    .dataframe tbody tr th:only-of-type {\n",
       "        vertical-align: middle;\n",
       "    }\n",
       "\n",
       "    .dataframe tbody tr th {\n",
       "        vertical-align: top;\n",
       "    }\n",
       "\n",
       "    .dataframe thead th {\n",
       "        text-align: right;\n",
       "    }\n",
       "</style>\n",
       "<table border=\"1\" class=\"dataframe\">\n",
       "  <thead>\n",
       "    <tr style=\"text-align: right;\">\n",
       "      <th></th>\n",
       "      <th>CustomerCode</th>\n",
       "      <th>CreditAmount</th>\n",
       "    </tr>\n",
       "  </thead>\n",
       "  <tbody>\n",
       "    <tr>\n",
       "      <th>0</th>\n",
       "      <td>100001</td>\n",
       "      <td>10000.00</td>\n",
       "    </tr>\n",
       "    <tr>\n",
       "      <th>9</th>\n",
       "      <td>100002</td>\n",
       "      <td>16493.88</td>\n",
       "    </tr>\n",
       "    <tr>\n",
       "      <th>11</th>\n",
       "      <td>100003</td>\n",
       "      <td>14680.25</td>\n",
       "    </tr>\n",
       "    <tr>\n",
       "      <th>17</th>\n",
       "      <td>100006</td>\n",
       "      <td>10000.00</td>\n",
       "    </tr>\n",
       "    <tr>\n",
       "      <th>22</th>\n",
       "      <td>100011</td>\n",
       "      <td>10000.00</td>\n",
       "    </tr>\n",
       "  </tbody>\n",
       "</table>\n",
       "</div>"
      ],
      "text/plain": [
       "   CustomerCode  CreditAmount\n",
       "0        100001      10000.00\n",
       "9        100002      16493.88\n",
       "11       100003      14680.25\n",
       "17       100006      10000.00\n",
       "22       100011      10000.00"
      ]
     },
     "execution_count": 108,
     "metadata": {},
     "output_type": "execute_result"
    }
   ],
   "source": [
    "df_CreditAmount_Perfil_Final.head()"
   ]
  },
  {
   "cell_type": "code",
   "execution_count": 55,
   "id": "80e18cb3",
   "metadata": {},
   "outputs": [
    {
     "name": "stderr",
     "output_type": "stream",
     "text": [
      "C:\\Users\\p_bon\\AppData\\Local\\Temp\\ipykernel_7356\\2138613582.py:1: SettingWithCopyWarning: \n",
      "A value is trying to be set on a copy of a slice from a DataFrame\n",
      "\n",
      "See the caveats in the documentation: https://pandas.pydata.org/pandas-docs/stable/user_guide/indexing.html#returning-a-view-versus-a-copy\n",
      "  df_CreditAmount_Perfil_Final.rename(columns={'CreditAmount_Contraste':'CreditAmount'}, inplace=True)\n"
     ]
    }
   ],
   "source": [
    "df_CreditAmount_Perfil_Final.rename(columns={'CreditAmount_Contraste':'CreditAmount'}, inplace=True)"
   ]
  },
  {
   "cell_type": "code",
   "execution_count": 56,
   "id": "7282bfe4",
   "metadata": {},
   "outputs": [],
   "source": [
    "#df_CreditAmount_PerfilContraste_Piso.to_csv('C:/Users/p_bon/Proyectos/SIA_PARTNERS/Prival/Reportes/ALCAPET_v3_Credit_check.csv')"
   ]
  },
  {
   "cell_type": "markdown",
   "id": "3e88177b",
   "metadata": {},
   "source": [
    "## Conteo de Transacciones IN"
   ]
  },
  {
   "cell_type": "code",
   "execution_count": 57,
   "id": "f0b62ffb",
   "metadata": {},
   "outputs": [],
   "source": [
    "def DescarteConteos(pivotConteo, columnsConteo):\n",
    "    \n",
    "    columns = columnsConteo\n",
    "    \n",
    "    for lab, row in pivotConteo.iterrows():\n",
    "        \n",
    "        for col in columns:\n",
    "            \n",
    "            col_cont = col + '_cont'\n",
    "            \n",
    "            col_cant = col + '_cant'\n",
    "            \n",
    "            if row[col_cant] < 1000:\n",
    "                \n",
    "                pivotConteo.loc[lab, col_cont] = 0\n",
    "                \n",
    "            else:\n",
    "                \n",
    "                continue\n",
    "                \n",
    "    return pivotConteo"
   ]
  },
  {
   "cell_type": "code",
   "execution_count": 58,
   "id": "2cc3c9aa",
   "metadata": {},
   "outputs": [],
   "source": [
    "def PromedioConteo(pivot, name, columnsConteo):\n",
    "    \n",
    "    columns =[]\n",
    "    \n",
    "    for col in columnsConteo:\n",
    "        \n",
    "        col = col + '_cont'\n",
    "        \n",
    "        columns.append(col)\n",
    "    \n",
    "    pivot['Count'] = 0\n",
    "    \n",
    "    #promedio sin max\n",
    "    \n",
    "    for lab, row in pivot.iterrows():\n",
    "        \n",
    "        for col in columns:\n",
    "            \n",
    "            if row[col] > 0:\n",
    "                \n",
    "                row['Count'] += 1\n",
    "                \n",
    "            else:\n",
    "                \n",
    "                continue\n",
    "                \n",
    "        pivot.loc[lab, 'Count'] = row['Count']\n",
    "    \n",
    "    pivot[name] = np.round(pivot['TotalConteo']/pivot['Count'],0)\n",
    "    \n",
    "    return pivot "
   ]
  },
  {
   "cell_type": "code",
   "execution_count": 59,
   "id": "f5f25064",
   "metadata": {},
   "outputs": [],
   "source": [
    "def MinConteo(df_conteo, colname):\n",
    "    \n",
    "    for lab, row in df_conteo.iterrows():\n",
    "        \n",
    "        if row[colname] < 10:\n",
    "            \n",
    "            df_conteo.loc[lab,colname] = 10\n",
    "            \n",
    "        else:\n",
    "            \n",
    "            continue\n",
    "            \n",
    "    return df_conteo"
   ]
  },
  {
   "cell_type": "code",
   "execution_count": 60,
   "id": "1fcdf276",
   "metadata": {},
   "outputs": [],
   "source": [
    "df_pivotIn_meses = df_CreditAmount_Financiero.drop(['MaxValue', 'Suma_con_Max', 'Suma_sin_Max', 'Count', 'Promedio_sin_Max', 'Promedio_con_Max', 'CreditAmount', 'PerfilFinanciero', 'Riesgo', 'PEP', 'Desviacion', 'Factor_Multiplicador', 'CreditAmount_Contraste'], axis=1)"
   ]
  },
  {
   "cell_type": "code",
   "execution_count": 61,
   "id": "d219c09f",
   "metadata": {},
   "outputs": [],
   "source": [
    "df_pivotConteo_IN = pd.pivot_table(df_Trans_CustomerCode_CatIn, values= 'Amount', index='CustomerCode', columns='Month_Year', aggfunc= 'count', fill_value=0)"
   ]
  },
  {
   "cell_type": "code",
   "execution_count": 62,
   "id": "702dc7d2",
   "metadata": {},
   "outputs": [],
   "source": [
    "columnsConteo = list(df_pivotConteo_IN.columns)\n"
   ]
  },
  {
   "cell_type": "code",
   "execution_count": 63,
   "id": "daefc003",
   "metadata": {
    "scrolled": true
   },
   "outputs": [],
   "source": [
    "df_pivotConteo_IN = df_pivotConteo_IN.merge(df_pivotIn_meses, on='CustomerCode', suffixes= ('_cont', '_cant'), how = 'outer')"
   ]
  },
  {
   "cell_type": "code",
   "execution_count": 64,
   "id": "b9e6e1bb",
   "metadata": {},
   "outputs": [],
   "source": [
    "df_pivotConteo_IN = df_pivotConteo_IN.fillna(0)"
   ]
  },
  {
   "cell_type": "code",
   "execution_count": 65,
   "id": "703beea0",
   "metadata": {},
   "outputs": [],
   "source": [
    "df_pivotConteo_IN = DescarteConteos(df_pivotConteo_IN, columnsConteo)"
   ]
  },
  {
   "cell_type": "code",
   "execution_count": 66,
   "id": "f7c79328",
   "metadata": {},
   "outputs": [],
   "source": [
    "toErase = []\n",
    "\n",
    "for col in columnsConteo:\n",
    "    \n",
    "    col = col + '_cant'\n",
    "    \n",
    "    toErase.append(col)\n",
    "\n",
    "df_pivotConteo_IN = df_pivotConteo_IN.drop(toErase, axis = 1)"
   ]
  },
  {
   "cell_type": "code",
   "execution_count": 67,
   "id": "1a2aff2f",
   "metadata": {},
   "outputs": [],
   "source": [
    "df_pivotConteo_IN['TotalConteo'] = 0\n",
    "\n",
    "for col in columnsConteo:\n",
    "    \n",
    "    col = col + '_cont'\n",
    "    \n",
    "    df_pivotConteo_IN['TotalConteo'] += df_pivotConteo_IN[col]"
   ]
  },
  {
   "cell_type": "code",
   "execution_count": 68,
   "id": "4d9518c2",
   "metadata": {},
   "outputs": [],
   "source": [
    "df_pivotConteo_IN = PromedioConteo(df_pivotConteo_IN, 'CreditQty', columnsConteo)"
   ]
  },
  {
   "cell_type": "code",
   "execution_count": 69,
   "id": "b0ffd004",
   "metadata": {},
   "outputs": [],
   "source": [
    "df_pivotConteo_IN['CreditQty'] = df_pivotConteo_IN['CreditQty'].fillna(0)"
   ]
  },
  {
   "cell_type": "code",
   "execution_count": 70,
   "id": "04039470",
   "metadata": {
    "scrolled": true
   },
   "outputs": [],
   "source": [
    "df_CreditQty = df_pivotConteo_IN[['CustomerCode','CreditQty']]"
   ]
  },
  {
   "cell_type": "code",
   "execution_count": 71,
   "id": "21801f79",
   "metadata": {
    "scrolled": true
   },
   "outputs": [],
   "source": [
    "df_CreditQty = MinConteo(df_CreditQty, 'CreditQty')"
   ]
  },
  {
   "cell_type": "markdown",
   "id": "cadcb9de",
   "metadata": {},
   "source": [
    "## Pivot Out Categories"
   ]
  },
  {
   "cell_type": "code",
   "execution_count": 72,
   "id": "3b74cd41",
   "metadata": {},
   "outputs": [],
   "source": [
    "df_pivotOut = pd.pivot_table(df_Trans_CustomerCode_CatOut, values = 'Amount', index = 'CustomerCode', columns= 'Month_Year', aggfunc=np.sum, fill_value=0)"
   ]
  },
  {
   "cell_type": "code",
   "execution_count": 73,
   "id": "fbdf27f1",
   "metadata": {},
   "outputs": [],
   "source": [
    "df_pivotOut['MaxValue'] = df_pivotOut.max(axis='columns')"
   ]
  },
  {
   "cell_type": "code",
   "execution_count": 74,
   "id": "57a4ef1e",
   "metadata": {},
   "outputs": [],
   "source": [
    "df_pivotOut_Promedios = Promedios(df_pivotOut)"
   ]
  },
  {
   "cell_type": "code",
   "execution_count": 75,
   "id": "e28dd4ed",
   "metadata": {},
   "outputs": [],
   "source": [
    "df_DebitAmount = MontoPerfilTransaccional(df_pivotOut_Promedios, 'DebitAmount')"
   ]
  },
  {
   "cell_type": "code",
   "execution_count": 76,
   "id": "b4c5f74e",
   "metadata": {},
   "outputs": [],
   "source": [
    "df_DebitAmount_Financiero = df_DebitAmount.merge(df_CustomerPF, on='CustomerCode', how='outer')"
   ]
  },
  {
   "cell_type": "code",
   "execution_count": 77,
   "id": "f012afb1",
   "metadata": {},
   "outputs": [],
   "source": [
    "df_DebitAmount_Financiero = df_DebitAmount_Financiero.merge(df_CuentasCRM_Official_Risk, on = 'CustomerCode', how = 'outer')"
   ]
  },
  {
   "cell_type": "code",
   "execution_count": 78,
   "id": "9875dd64",
   "metadata": {},
   "outputs": [],
   "source": [
    "df_DebitAmount_Financiero = df_DebitAmount_Financiero.drop_duplicates(subset=['CustomerCode'], keep='first')"
   ]
  },
  {
   "cell_type": "code",
   "execution_count": 79,
   "id": "3b3f2f20",
   "metadata": {},
   "outputs": [],
   "source": [
    "df_DebitAmount_Financiero['PerfilFinanciero'] = df_DebitAmount_Financiero['PerfilFinanciero'].fillna(10000)"
   ]
  },
  {
   "cell_type": "code",
   "execution_count": 80,
   "id": "9f118f74",
   "metadata": {},
   "outputs": [],
   "source": [
    "df_DebitAmount_Financiero['DebitAmount'] = df_DebitAmount_Financiero['DebitAmount'].fillna(0)"
   ]
  },
  {
   "cell_type": "code",
   "execution_count": 81,
   "id": "61f06877",
   "metadata": {},
   "outputs": [],
   "source": [
    "df_DebitAmount_Financiero['Riesgo'] = df_DebitAmount_Financiero['Riesgo'].fillna('HR')"
   ]
  },
  {
   "cell_type": "code",
   "execution_count": 82,
   "id": "e27f1fcc",
   "metadata": {},
   "outputs": [],
   "source": [
    "df_DebitAmount_Financiero_Desviacion = CalculoDesviacion(df_DebitAmount_Financiero, 'DebitAmount')"
   ]
  },
  {
   "cell_type": "code",
   "execution_count": 83,
   "id": "64f1dbeb",
   "metadata": {
    "scrolled": true
   },
   "outputs": [],
   "source": [
    "df_DebitAmount_Desviacion_FactorRiesgo = FactorMultiplicador(df_DebitAmount_Financiero_Desviacion)"
   ]
  },
  {
   "cell_type": "code",
   "execution_count": 84,
   "id": "b73b96f9",
   "metadata": {},
   "outputs": [],
   "source": [
    "df_DebitAmount_Desviacion_FactorRiesgo['Factor_Multiplicador'] = df_DebitAmount_Desviacion_FactorRiesgo['Factor_Multiplicador'].fillna(0)"
   ]
  },
  {
   "cell_type": "code",
   "execution_count": 85,
   "id": "6023c18c",
   "metadata": {},
   "outputs": [],
   "source": [
    "df_DebitAmount_PerfilContraste = PerfilContraste(df_DebitAmount_Desviacion_FactorRiesgo, 'DebitAmount_Contraste', 'DebitAmount')"
   ]
  },
  {
   "cell_type": "code",
   "execution_count": 86,
   "id": "3723474f",
   "metadata": {},
   "outputs": [],
   "source": [
    "df_DebitAmount_PerfilContraste_Piso = np.round(Piso(df_DebitAmount_PerfilContraste, 'DebitAmount_Contraste'),2)"
   ]
  },
  {
   "cell_type": "code",
   "execution_count": 87,
   "id": "fc0e297a",
   "metadata": {},
   "outputs": [],
   "source": [
    "df_DebitAmount_Perfil_Final = df_DebitAmount_PerfilContraste_Piso[['CustomerCode', 'DebitAmount_Contraste']]"
   ]
  },
  {
   "cell_type": "code",
   "execution_count": 88,
   "id": "dc18acec",
   "metadata": {},
   "outputs": [
    {
     "name": "stderr",
     "output_type": "stream",
     "text": [
      "C:\\Users\\p_bon\\AppData\\Local\\Temp\\ipykernel_7356\\3458703251.py:1: SettingWithCopyWarning: \n",
      "A value is trying to be set on a copy of a slice from a DataFrame\n",
      "\n",
      "See the caveats in the documentation: https://pandas.pydata.org/pandas-docs/stable/user_guide/indexing.html#returning-a-view-versus-a-copy\n",
      "  df_DebitAmount_Perfil_Final.rename(columns= {'DebitAmount_Contraste':'DebitAmount'}, inplace=True)\n"
     ]
    }
   ],
   "source": [
    "df_DebitAmount_Perfil_Final.rename(columns= {'DebitAmount_Contraste':'DebitAmount'}, inplace=True)"
   ]
  },
  {
   "cell_type": "markdown",
   "id": "3fe4ec56",
   "metadata": {},
   "source": [
    "## Conteo Out Categories"
   ]
  },
  {
   "cell_type": "code",
   "execution_count": 89,
   "id": "d463351c",
   "metadata": {},
   "outputs": [],
   "source": [
    "df_pivotOut_meses = df_DebitAmount_Financiero.drop(['MaxValue', 'Suma_con_Max', 'Suma_sin_Max', 'Count', 'Promedio_sin_Max', 'Promedio_con_Max', 'DebitAmount', 'PerfilFinanciero', 'Riesgo', 'PEP', 'Desviacion', 'Factor_Multiplicador', 'DebitAmount_Contraste'], axis=1)"
   ]
  },
  {
   "cell_type": "code",
   "execution_count": 90,
   "id": "4d865b2e",
   "metadata": {},
   "outputs": [],
   "source": [
    "df_pivotConteo_Out = pd.pivot_table(df_Trans_CustomerCode_CatOut, values= 'Amount', index='CustomerCode', columns='Month_Year', aggfunc= 'count', fill_value=0)"
   ]
  },
  {
   "cell_type": "code",
   "execution_count": 91,
   "id": "a4ae1f31",
   "metadata": {},
   "outputs": [],
   "source": [
    "columnsConteo_Out = list(df_pivotConteo_Out.columns)"
   ]
  },
  {
   "cell_type": "code",
   "execution_count": 92,
   "id": "b0fc780f",
   "metadata": {
    "scrolled": true
   },
   "outputs": [],
   "source": [
    "df_pivotConteo_Out = df_pivotConteo_Out.merge(df_pivotOut_meses, on='CustomerCode', suffixes= ('_cont', '_cant'), how = 'outer')"
   ]
  },
  {
   "cell_type": "code",
   "execution_count": 93,
   "id": "c28e2e63",
   "metadata": {},
   "outputs": [],
   "source": [
    "df_pivotConteo_Out = df_pivotConteo_Out.fillna(0)"
   ]
  },
  {
   "cell_type": "code",
   "execution_count": 94,
   "id": "39b3bfe7",
   "metadata": {},
   "outputs": [],
   "source": [
    "df_pivotConteo_Out = DescarteConteos(df_pivotConteo_Out, columnsConteo_Out)"
   ]
  },
  {
   "cell_type": "code",
   "execution_count": 95,
   "id": "e3b272fa",
   "metadata": {},
   "outputs": [],
   "source": [
    "toErase = []\n",
    "\n",
    "for col in columnsConteo_Out:\n",
    "    \n",
    "    col = col + '_cant'\n",
    "    \n",
    "    toErase.append(col)\n",
    "\n",
    "df_pivotConteo_Out = df_pivotConteo_Out.drop(toErase, axis = 1)"
   ]
  },
  {
   "cell_type": "code",
   "execution_count": 96,
   "id": "380c39dd",
   "metadata": {},
   "outputs": [],
   "source": [
    "df_pivotConteo_Out['TotalConteo'] = 0\n",
    "\n",
    "for col in columnsConteo_Out:\n",
    "    \n",
    "    col = col + '_cont'\n",
    "\n",
    "    df_pivotConteo_Out['TotalConteo'] += df_pivotConteo_Out[col]"
   ]
  },
  {
   "cell_type": "code",
   "execution_count": 97,
   "id": "7d5f4899",
   "metadata": {},
   "outputs": [],
   "source": [
    "df_pivotConteo_Out = PromedioConteo(df_pivotConteo_Out, 'DebitQty', columnsConteo_Out)"
   ]
  },
  {
   "cell_type": "code",
   "execution_count": 98,
   "id": "91de52a0",
   "metadata": {},
   "outputs": [],
   "source": [
    "df_pivotConteo_Out['DebitQty'] = df_pivotConteo_Out['DebitQty'].fillna(0)"
   ]
  },
  {
   "cell_type": "code",
   "execution_count": 99,
   "id": "53fd10b1",
   "metadata": {},
   "outputs": [],
   "source": [
    "df_DebitQty = df_pivotConteo_Out[['CustomerCode','DebitQty']]"
   ]
  },
  {
   "cell_type": "code",
   "execution_count": 100,
   "id": "276f6774",
   "metadata": {},
   "outputs": [],
   "source": [
    "df_DebitQty = MinConteo(df_DebitQty, 'DebitQty')"
   ]
  },
  {
   "cell_type": "markdown",
   "id": "ee69d426",
   "metadata": {},
   "source": [
    "# Slicing and Merging PreFinal Tables"
   ]
  },
  {
   "cell_type": "markdown",
   "id": "59587376",
   "metadata": {},
   "source": [
    "### Totalizing Perfil Financiero"
   ]
  },
  {
   "cell_type": "code",
   "execution_count": 101,
   "id": "ec53761e",
   "metadata": {},
   "outputs": [],
   "source": [
    "df_Monto_Perfil_Transaccional = df_CreditAmount_Perfil_Final.merge(df_CreditQty, on='CustomerCode')"
   ]
  },
  {
   "cell_type": "code",
   "execution_count": 102,
   "id": "ccda4b43",
   "metadata": {},
   "outputs": [],
   "source": [
    "df_Monto_Perfil_Transaccional = df_Monto_Perfil_Transaccional.merge(df_DebitAmount_Perfil_Final, on='CustomerCode')"
   ]
  },
  {
   "cell_type": "code",
   "execution_count": 103,
   "id": "7992e29c",
   "metadata": {},
   "outputs": [],
   "source": [
    "df_Monto_Perfil_Transaccional = df_Monto_Perfil_Transaccional.merge(df_DebitQty, on='CustomerCode')"
   ]
  },
  {
   "cell_type": "code",
   "execution_count": 104,
   "id": "7f7ebaee",
   "metadata": {},
   "outputs": [],
   "source": [
    "df_Monto_Perfil_Transaccional = df_Monto_Perfil_Transaccional.set_index('CustomerCode')"
   ]
  },
  {
   "cell_type": "code",
   "execution_count": 105,
   "id": "c5c645d3",
   "metadata": {},
   "outputs": [
    {
     "data": {
      "text/html": [
       "<div>\n",
       "<style scoped>\n",
       "    .dataframe tbody tr th:only-of-type {\n",
       "        vertical-align: middle;\n",
       "    }\n",
       "\n",
       "    .dataframe tbody tr th {\n",
       "        vertical-align: top;\n",
       "    }\n",
       "\n",
       "    .dataframe thead th {\n",
       "        text-align: right;\n",
       "    }\n",
       "</style>\n",
       "<table border=\"1\" class=\"dataframe\">\n",
       "  <thead>\n",
       "    <tr style=\"text-align: right;\">\n",
       "      <th></th>\n",
       "      <th>CreditAmount</th>\n",
       "      <th>CreditQty</th>\n",
       "      <th>DebitAmount</th>\n",
       "      <th>DebitQty</th>\n",
       "    </tr>\n",
       "    <tr>\n",
       "      <th>CustomerCode</th>\n",
       "      <th></th>\n",
       "      <th></th>\n",
       "      <th></th>\n",
       "      <th></th>\n",
       "    </tr>\n",
       "  </thead>\n",
       "  <tbody>\n",
       "    <tr>\n",
       "      <th>100001</th>\n",
       "      <td>10000.00</td>\n",
       "      <td>10.0</td>\n",
       "      <td>10000.00</td>\n",
       "      <td>23.0</td>\n",
       "    </tr>\n",
       "    <tr>\n",
       "      <th>100002</th>\n",
       "      <td>16493.88</td>\n",
       "      <td>10.0</td>\n",
       "      <td>16302.83</td>\n",
       "      <td>19.0</td>\n",
       "    </tr>\n",
       "    <tr>\n",
       "      <th>100003</th>\n",
       "      <td>14680.25</td>\n",
       "      <td>11.0</td>\n",
       "      <td>16973.33</td>\n",
       "      <td>24.0</td>\n",
       "    </tr>\n",
       "    <tr>\n",
       "      <th>100006</th>\n",
       "      <td>10000.00</td>\n",
       "      <td>10.0</td>\n",
       "      <td>10000.00</td>\n",
       "      <td>10.0</td>\n",
       "    </tr>\n",
       "    <tr>\n",
       "      <th>100011</th>\n",
       "      <td>10000.00</td>\n",
       "      <td>10.0</td>\n",
       "      <td>18500.00</td>\n",
       "      <td>10.0</td>\n",
       "    </tr>\n",
       "  </tbody>\n",
       "</table>\n",
       "</div>"
      ],
      "text/plain": [
       "              CreditAmount  CreditQty  DebitAmount  DebitQty\n",
       "CustomerCode                                                \n",
       "100001            10000.00       10.0     10000.00      23.0\n",
       "100002            16493.88       10.0     16302.83      19.0\n",
       "100003            14680.25       11.0     16973.33      24.0\n",
       "100006            10000.00       10.0     10000.00      10.0\n",
       "100011            10000.00       10.0     18500.00      10.0"
      ]
     },
     "execution_count": 105,
     "metadata": {},
     "output_type": "execute_result"
    }
   ],
   "source": [
    "df_Monto_Perfil_Transaccional.head()"
   ]
  },
  {
   "cell_type": "code",
   "execution_count": 285,
   "id": "66466532",
   "metadata": {},
   "outputs": [],
   "source": [
    "df_Monto_Perfil_Transaccional.to_csv('C:/Users/p_bon/Proyectos/SIA_PARTNERS/Prival/Output/Monto_Perfil_Transaccional_ALCAPETv3_Mayo10.csv')"
   ]
  }
 ],
 "metadata": {
  "kernelspec": {
   "display_name": "Python 3 (ipykernel)",
   "language": "python",
   "name": "python3"
  },
  "language_info": {
   "codemirror_mode": {
    "name": "ipython",
    "version": 3
   },
   "file_extension": ".py",
   "mimetype": "text/x-python",
   "name": "python",
   "nbconvert_exporter": "python",
   "pygments_lexer": "ipython3",
   "version": "3.9.12"
  },
  "toc": {
   "base_numbering": 1,
   "nav_menu": {},
   "number_sections": true,
   "sideBar": true,
   "skip_h1_title": false,
   "title_cell": "Table of Contents",
   "title_sidebar": "Contents",
   "toc_cell": false,
   "toc_position": {},
   "toc_section_display": true,
   "toc_window_display": false
  }
 },
 "nbformat": 4,
 "nbformat_minor": 5
}
